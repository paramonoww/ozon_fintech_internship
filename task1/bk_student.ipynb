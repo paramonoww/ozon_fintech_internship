{
 "cells": [
  {
   "cell_type": "markdown",
   "id": "caf770fc",
   "metadata": {},
   "source": [
    "# Тестовое задание"
   ]
  },
  {
   "cell_type": "markdown",
   "id": "5cc69a15",
   "metadata": {},
   "source": [
    "В папке с заданием два датасета - data_orders - содержит выборку данных по заказам клиентов и включает такие колонки как:\n",
    "* order_datetime -  время заказа\n",
    "* order_gk - номер заказа\n",
    "* order_status_key - статус (4 - отменен клиентом, 9 - отменен системой (reject))\n",
    "* is_courier_assigned_key - был ли назначен курьер\n",
    "* cancellations_time_in_seconds - сколько секунд прошло до отмены\n",
    "\n",
    "data_offers - содержит пары номер заказа - ID оффера, который был предложен курьеру по данному заказу.\n"
   ]
  },
  {
   "cell_type": "markdown",
   "id": "7fe91307",
   "metadata": {},
   "source": [
    "В момент когда клиент нажимает на кнопку \"Заказать\" в приложении, система матчинга подыскивает наиболее релевантых курьеров и предлагаем им заказ. В задании предлагается исследовать некоторые метрики неудачных заказов."
   ]
  },
  {
   "cell_type": "markdown",
   "id": "e29f0cb2",
   "metadata": {},
   "source": [
    "Задание является проверочным и не имеет ничего общего с реальной работой курьеров"
   ]
  },
  {
   "cell_type": "markdown",
   "id": "296257e4",
   "metadata": {},
   "source": [
    "#### 0. Подготовка данных, проверка выбросов, аномалий."
   ]
  },
  {
   "cell_type": "markdown",
   "id": "eaa30d7c",
   "metadata": {},
   "source": [
    "**0.1** Импортируем нужные библиотеки для работы."
   ]
  },
  {
   "cell_type": "code",
   "execution_count": 133,
   "id": "a19e7c60",
   "metadata": {},
   "outputs": [],
   "source": [
    "import pandas as pd\n",
    "import numpy as np\n",
    "import matplotlib.pyplot as plt\n",
    "\n",
    "import seaborn as sns\n",
    "from scipy import stats as st\n",
    "%matplotlib inline"
   ]
  },
  {
   "cell_type": "markdown",
   "id": "e8ec1711",
   "metadata": {},
   "source": [
    "##### 0.2. Импортируем файлы и посмотрим на датасеты."
   ]
  },
  {
   "cell_type": "code",
   "execution_count": 134,
   "id": "eaed18d9",
   "metadata": {},
   "outputs": [],
   "source": [
    "df_orders = pd.read_csv('data_orders.csv')\n",
    "df_offers = pd.read_csv('data_offers.csv')"
   ]
  },
  {
   "cell_type": "code",
   "execution_count": 135,
   "id": "aec7e47e",
   "metadata": {
    "scrolled": false
   },
   "outputs": [
    {
     "name": "stdout",
     "output_type": "stream",
     "text": [
      "-------------Первые 5 строк-------------\n"
     ]
    },
    {
     "data": {
      "text/html": [
       "<div>\n",
       "<style scoped>\n",
       "    .dataframe tbody tr th:only-of-type {\n",
       "        vertical-align: middle;\n",
       "    }\n",
       "\n",
       "    .dataframe tbody tr th {\n",
       "        vertical-align: top;\n",
       "    }\n",
       "\n",
       "    .dataframe thead th {\n",
       "        text-align: right;\n",
       "    }\n",
       "</style>\n",
       "<table border=\"1\" class=\"dataframe\">\n",
       "  <thead>\n",
       "    <tr style=\"text-align: right;\">\n",
       "      <th></th>\n",
       "      <th>order_datetime</th>\n",
       "      <th>order_gk</th>\n",
       "      <th>order_status_key</th>\n",
       "      <th>is_courier_assigned_key</th>\n",
       "      <th>cancellations_time_in_seconds</th>\n",
       "    </tr>\n",
       "  </thead>\n",
       "  <tbody>\n",
       "    <tr>\n",
       "      <td>0</td>\n",
       "      <td>2020-07-22 18:08:07</td>\n",
       "      <td>3000583041974</td>\n",
       "      <td>4</td>\n",
       "      <td>1</td>\n",
       "      <td>198.0</td>\n",
       "    </tr>\n",
       "    <tr>\n",
       "      <td>1</td>\n",
       "      <td>2020-07-22 20:57:32</td>\n",
       "      <td>3000583116437</td>\n",
       "      <td>4</td>\n",
       "      <td>0</td>\n",
       "      <td>128.0</td>\n",
       "    </tr>\n",
       "    <tr>\n",
       "      <td>2</td>\n",
       "      <td>2020-07-22 12:07:50</td>\n",
       "      <td>3000582891479</td>\n",
       "      <td>4</td>\n",
       "      <td>1</td>\n",
       "      <td>46.0</td>\n",
       "    </tr>\n",
       "    <tr>\n",
       "      <td>3</td>\n",
       "      <td>2020-07-22 13:50:20</td>\n",
       "      <td>3000582941169</td>\n",
       "      <td>4</td>\n",
       "      <td>1</td>\n",
       "      <td>62.0</td>\n",
       "    </tr>\n",
       "    <tr>\n",
       "      <td>4</td>\n",
       "      <td>2020-07-22 21:24:45</td>\n",
       "      <td>3000583140877</td>\n",
       "      <td>9</td>\n",
       "      <td>0</td>\n",
       "      <td>NaN</td>\n",
       "    </tr>\n",
       "  </tbody>\n",
       "</table>\n",
       "</div>"
      ],
      "text/plain": [
       "        order_datetime       order_gk  order_status_key  \\\n",
       "0  2020-07-22 18:08:07  3000583041974                 4   \n",
       "1  2020-07-22 20:57:32  3000583116437                 4   \n",
       "2  2020-07-22 12:07:50  3000582891479                 4   \n",
       "3  2020-07-22 13:50:20  3000582941169                 4   \n",
       "4  2020-07-22 21:24:45  3000583140877                 9   \n",
       "\n",
       "   is_courier_assigned_key  cancellations_time_in_seconds  \n",
       "0                        1                          198.0  \n",
       "1                        0                          128.0  \n",
       "2                        1                           46.0  \n",
       "3                        1                           62.0  \n",
       "4                        0                            NaN  "
      ]
     },
     "metadata": {},
     "output_type": "display_data"
    },
    {
     "name": "stdout",
     "output_type": "stream",
     "text": [
      "-------------Типы данных-------------\n",
      "<class 'pandas.core.frame.DataFrame'>\n",
      "RangeIndex: 10716 entries, 0 to 10715\n",
      "Data columns (total 5 columns):\n",
      "order_datetime                   10716 non-null object\n",
      "order_gk                         10716 non-null int64\n",
      "order_status_key                 10716 non-null int64\n",
      "is_courier_assigned_key          10716 non-null int64\n",
      "cancellations_time_in_seconds    7307 non-null float64\n",
      "dtypes: float64(1), int64(3), object(1)\n",
      "memory usage: 418.7+ KB\n"
     ]
    },
    {
     "data": {
      "text/plain": [
       "None"
      ]
     },
     "metadata": {},
     "output_type": "display_data"
    },
    {
     "name": "stdout",
     "output_type": "stream",
     "text": [
      "-------------Форма-------------\n"
     ]
    },
    {
     "data": {
      "text/plain": [
       "(10716, 5)"
      ]
     },
     "metadata": {},
     "output_type": "display_data"
    },
    {
     "name": "stdout",
     "output_type": "stream",
     "text": [
      "-------------Количество дубликатов-------------\n"
     ]
    },
    {
     "data": {
      "text/plain": [
       "0"
      ]
     },
     "metadata": {},
     "output_type": "display_data"
    },
    {
     "name": "stdout",
     "output_type": "stream",
     "text": [
      "-------------Количество пропусков-------------\n"
     ]
    },
    {
     "data": {
      "text/plain": [
       "order_datetime                      0\n",
       "order_gk                            0\n",
       "order_status_key                    0\n",
       "is_courier_assigned_key             0\n",
       "cancellations_time_in_seconds    3409\n",
       "dtype: int64"
      ]
     },
     "metadata": {},
     "output_type": "display_data"
    }
   ],
   "source": [
    "print(\"-------------Первые 5 строк-------------\")\n",
    "display(df_orders.head())\n",
    "\n",
    "print(\"-------------Типы данных-------------\")\n",
    "display(df_orders.info())\n",
    "\n",
    "print(\"-------------Форма-------------\")\n",
    "display(df_orders.shape)\n",
    "\n",
    "print(\"-------------Количество дубликатов-------------\")\n",
    "display(df_orders.duplicated().sum())\n",
    "\n",
    "print(\"-------------Количество пропусков-------------\")\n",
    "display(df_orders.isna().sum())\n"
   ]
  },
  {
   "cell_type": "markdown",
   "id": "fc532b63",
   "metadata": {},
   "source": [
    "##### 0.2.1. Выводы по `df_orders`:\n",
    "1. Видно, что типы данных в колонках не совсем отражают действительность, изменим это в дальнейшем.\n",
    "2. Дубликатов нет.\n",
    "3. Пропуски есть только в столбце `cancellations_time_in_seconds`, посмотрим, чем это может быть вызвано в дальнейшем.\n"
   ]
  },
  {
   "cell_type": "code",
   "execution_count": 136,
   "id": "e5693260",
   "metadata": {},
   "outputs": [
    {
     "name": "stdout",
     "output_type": "stream",
     "text": [
      "-------------Первые 5 строк-------------\n"
     ]
    },
    {
     "data": {
      "text/html": [
       "<div>\n",
       "<style scoped>\n",
       "    .dataframe tbody tr th:only-of-type {\n",
       "        vertical-align: middle;\n",
       "    }\n",
       "\n",
       "    .dataframe tbody tr th {\n",
       "        vertical-align: top;\n",
       "    }\n",
       "\n",
       "    .dataframe thead th {\n",
       "        text-align: right;\n",
       "    }\n",
       "</style>\n",
       "<table border=\"1\" class=\"dataframe\">\n",
       "  <thead>\n",
       "    <tr style=\"text-align: right;\">\n",
       "      <th></th>\n",
       "      <th>order_gk</th>\n",
       "      <th>offer_id</th>\n",
       "    </tr>\n",
       "  </thead>\n",
       "  <tbody>\n",
       "    <tr>\n",
       "      <td>0</td>\n",
       "      <td>3000579625629</td>\n",
       "      <td>300050936206</td>\n",
       "    </tr>\n",
       "    <tr>\n",
       "      <td>1</td>\n",
       "      <td>3000627306450</td>\n",
       "      <td>300052064651</td>\n",
       "    </tr>\n",
       "    <tr>\n",
       "      <td>2</td>\n",
       "      <td>3000632920686</td>\n",
       "      <td>300052408812</td>\n",
       "    </tr>\n",
       "    <tr>\n",
       "      <td>3</td>\n",
       "      <td>3000632771725</td>\n",
       "      <td>300052393030</td>\n",
       "    </tr>\n",
       "    <tr>\n",
       "      <td>4</td>\n",
       "      <td>3000583467642</td>\n",
       "      <td>300051001196</td>\n",
       "    </tr>\n",
       "  </tbody>\n",
       "</table>\n",
       "</div>"
      ],
      "text/plain": [
       "        order_gk      offer_id\n",
       "0  3000579625629  300050936206\n",
       "1  3000627306450  300052064651\n",
       "2  3000632920686  300052408812\n",
       "3  3000632771725  300052393030\n",
       "4  3000583467642  300051001196"
      ]
     },
     "metadata": {},
     "output_type": "display_data"
    },
    {
     "name": "stdout",
     "output_type": "stream",
     "text": [
      "-------------Типы данных-------------\n",
      "<class 'pandas.core.frame.DataFrame'>\n",
      "RangeIndex: 334363 entries, 0 to 334362\n",
      "Data columns (total 2 columns):\n",
      "order_gk    334363 non-null int64\n",
      "offer_id    334363 non-null int64\n",
      "dtypes: int64(2)\n",
      "memory usage: 5.1 MB\n"
     ]
    },
    {
     "data": {
      "text/plain": [
       "None"
      ]
     },
     "metadata": {},
     "output_type": "display_data"
    },
    {
     "name": "stdout",
     "output_type": "stream",
     "text": [
      "-------------Форма-------------\n"
     ]
    },
    {
     "data": {
      "text/plain": [
       "(334363, 2)"
      ]
     },
     "metadata": {},
     "output_type": "display_data"
    },
    {
     "name": "stdout",
     "output_type": "stream",
     "text": [
      "-------------Количество дубликатов-------------\n"
     ]
    },
    {
     "data": {
      "text/plain": [
       "0"
      ]
     },
     "metadata": {},
     "output_type": "display_data"
    },
    {
     "name": "stdout",
     "output_type": "stream",
     "text": [
      "-------------Количество пропусков-------------\n"
     ]
    },
    {
     "data": {
      "text/plain": [
       "order_gk    0\n",
       "offer_id    0\n",
       "dtype: int64"
      ]
     },
     "metadata": {},
     "output_type": "display_data"
    }
   ],
   "source": [
    "print(\"-------------Первые 5 строк-------------\")\n",
    "display(df_offers.head())\n",
    "\n",
    "print(\"-------------Типы данных-------------\")\n",
    "display(df_offers.info())\n",
    "\n",
    "print(\"-------------Форма-------------\")\n",
    "display(df_offers.shape)\n",
    "\n",
    "print(\"-------------Количество дубликатов-------------\")\n",
    "display(df_offers.duplicated().sum())\n",
    "\n",
    "print(\"-------------Количество пропусков-------------\")\n",
    "display(df_offers.isna().sum())"
   ]
  },
  {
   "cell_type": "markdown",
   "id": "21f3fcd9",
   "metadata": {},
   "source": [
    "##### 0.2.2 Выводы по `df_offers`:\n",
    "1. С типами данных проблем нет.\n",
    "2. Датасет довольно большой, больше 300k строк.\n",
    "3. Дубликатов и пропусков не наблюдается."
   ]
  },
  {
   "cell_type": "markdown",
   "id": "8c1258b6",
   "metadata": {},
   "source": [
    "##### 0.3. Предобработка `df_orders`"
   ]
  },
  {
   "cell_type": "markdown",
   "id": "42f2d4d2",
   "metadata": {},
   "source": [
    "###### 0.3.1. Изменим тип данных в столбцах."
   ]
  },
  {
   "cell_type": "code",
   "execution_count": 137,
   "id": "3335d92e",
   "metadata": {},
   "outputs": [
    {
     "data": {
      "text/plain": [
       "order_datetime                    object\n",
       "order_gk                           int64\n",
       "order_status_key                   int64\n",
       "is_courier_assigned_key            int64\n",
       "cancellations_time_in_seconds    float64\n",
       "dtype: object"
      ]
     },
     "execution_count": 137,
     "metadata": {},
     "output_type": "execute_result"
    }
   ],
   "source": [
    "df_orders.dtypes"
   ]
  },
  {
   "cell_type": "code",
   "execution_count": 138,
   "id": "78654101",
   "metadata": {},
   "outputs": [],
   "source": [
    "df_orders['order_datetime'] = pd.to_datetime(df_orders['order_datetime'])\n",
    "df_orders['is_courier_assigned_key'] = df_orders['is_courier_assigned_key'].astype(bool)\n",
    "# cancellations_time_in_seconds не превращаем пока что в int из-за NaN"
   ]
  },
  {
   "cell_type": "markdown",
   "id": "bbde5e15",
   "metadata": {},
   "source": [
    "###### 0.3.2. Посмотрим детальнее на пропуски."
   ]
  },
  {
   "cell_type": "code",
   "execution_count": 139,
   "id": "bfb8d6c8",
   "metadata": {},
   "outputs": [
    {
     "data": {
      "text/html": [
       "<div>\n",
       "<style scoped>\n",
       "    .dataframe tbody tr th:only-of-type {\n",
       "        vertical-align: middle;\n",
       "    }\n",
       "\n",
       "    .dataframe tbody tr th {\n",
       "        vertical-align: top;\n",
       "    }\n",
       "\n",
       "    .dataframe thead th {\n",
       "        text-align: right;\n",
       "    }\n",
       "</style>\n",
       "<table border=\"1\" class=\"dataframe\">\n",
       "  <thead>\n",
       "    <tr style=\"text-align: right;\">\n",
       "      <th></th>\n",
       "      <th>order_datetime</th>\n",
       "      <th>order_gk</th>\n",
       "      <th>order_status_key</th>\n",
       "      <th>is_courier_assigned_key</th>\n",
       "      <th>cancellations_time_in_seconds</th>\n",
       "    </tr>\n",
       "  </thead>\n",
       "  <tbody>\n",
       "    <tr>\n",
       "      <td>8520</td>\n",
       "      <td>2020-07-22 16:59:09</td>\n",
       "      <td>3000578027099</td>\n",
       "      <td>9</td>\n",
       "      <td>False</td>\n",
       "      <td>NaN</td>\n",
       "    </tr>\n",
       "    <tr>\n",
       "      <td>4653</td>\n",
       "      <td>2020-07-22 09:02:01</td>\n",
       "      <td>3000627808064</td>\n",
       "      <td>9</td>\n",
       "      <td>False</td>\n",
       "      <td>NaN</td>\n",
       "    </tr>\n",
       "    <tr>\n",
       "      <td>9992</td>\n",
       "      <td>2020-07-22 01:55:07</td>\n",
       "      <td>3000617651301</td>\n",
       "      <td>9</td>\n",
       "      <td>False</td>\n",
       "      <td>NaN</td>\n",
       "    </tr>\n",
       "    <tr>\n",
       "      <td>3542</td>\n",
       "      <td>2020-07-22 10:32:21</td>\n",
       "      <td>3000577225736</td>\n",
       "      <td>9</td>\n",
       "      <td>False</td>\n",
       "      <td>NaN</td>\n",
       "    </tr>\n",
       "    <tr>\n",
       "      <td>1675</td>\n",
       "      <td>2020-07-22 23:16:48</td>\n",
       "      <td>3000594448223</td>\n",
       "      <td>9</td>\n",
       "      <td>False</td>\n",
       "      <td>NaN</td>\n",
       "    </tr>\n",
       "  </tbody>\n",
       "</table>\n",
       "</div>"
      ],
      "text/plain": [
       "          order_datetime       order_gk  order_status_key  \\\n",
       "8520 2020-07-22 16:59:09  3000578027099                 9   \n",
       "4653 2020-07-22 09:02:01  3000627808064                 9   \n",
       "9992 2020-07-22 01:55:07  3000617651301                 9   \n",
       "3542 2020-07-22 10:32:21  3000577225736                 9   \n",
       "1675 2020-07-22 23:16:48  3000594448223                 9   \n",
       "\n",
       "      is_courier_assigned_key  cancellations_time_in_seconds  \n",
       "8520                    False                            NaN  \n",
       "4653                    False                            NaN  \n",
       "9992                    False                            NaN  \n",
       "3542                    False                            NaN  \n",
       "1675                    False                            NaN  "
      ]
     },
     "execution_count": 139,
     "metadata": {},
     "output_type": "execute_result"
    }
   ],
   "source": [
    "df_orders[df_orders['cancellations_time_in_seconds'].isnull() == True].sample(5)"
   ]
  },
  {
   "cell_type": "markdown",
   "id": "df4b9eb8",
   "metadata": {},
   "source": [
    "В основном пропуски по времени отмены заказа только там, где:\n",
    "1. **Не назначен курьер.**\n",
    "2. **Заказ отменен системой.**\n",
    "\n",
    "- Убедимся в этом полностью, проверив, есть ли такие строки, где есть значение **NaN и True**.\n",
    "- А потом проверим строки, где может быть значение **4 и NaN**."
   ]
  },
  {
   "cell_type": "code",
   "execution_count": 140,
   "id": "7e9abe5b",
   "metadata": {},
   "outputs": [
    {
     "data": {
      "text/html": [
       "<div>\n",
       "<style scoped>\n",
       "    .dataframe tbody tr th:only-of-type {\n",
       "        vertical-align: middle;\n",
       "    }\n",
       "\n",
       "    .dataframe tbody tr th {\n",
       "        vertical-align: top;\n",
       "    }\n",
       "\n",
       "    .dataframe thead th {\n",
       "        text-align: right;\n",
       "    }\n",
       "</style>\n",
       "<table border=\"1\" class=\"dataframe\">\n",
       "  <thead>\n",
       "    <tr style=\"text-align: right;\">\n",
       "      <th></th>\n",
       "      <th>order_datetime</th>\n",
       "      <th>order_gk</th>\n",
       "      <th>order_status_key</th>\n",
       "      <th>is_courier_assigned_key</th>\n",
       "      <th>cancellations_time_in_seconds</th>\n",
       "    </tr>\n",
       "  </thead>\n",
       "  <tbody>\n",
       "    <tr>\n",
       "      <td>1158</td>\n",
       "      <td>2020-07-22 16:49:55</td>\n",
       "      <td>3000631256425</td>\n",
       "      <td>9</td>\n",
       "      <td>True</td>\n",
       "      <td>NaN</td>\n",
       "    </tr>\n",
       "    <tr>\n",
       "      <td>6881</td>\n",
       "      <td>2020-07-22 00:44:03</td>\n",
       "      <td>3000630156338</td>\n",
       "      <td>9</td>\n",
       "      <td>True</td>\n",
       "      <td>NaN</td>\n",
       "    </tr>\n",
       "    <tr>\n",
       "      <td>7968</td>\n",
       "      <td>2020-07-22 00:12:02</td>\n",
       "      <td>3000600112433</td>\n",
       "      <td>9</td>\n",
       "      <td>True</td>\n",
       "      <td>NaN</td>\n",
       "    </tr>\n",
       "  </tbody>\n",
       "</table>\n",
       "</div>"
      ],
      "text/plain": [
       "          order_datetime       order_gk  order_status_key  \\\n",
       "1158 2020-07-22 16:49:55  3000631256425                 9   \n",
       "6881 2020-07-22 00:44:03  3000630156338                 9   \n",
       "7968 2020-07-22 00:12:02  3000600112433                 9   \n",
       "\n",
       "      is_courier_assigned_key  cancellations_time_in_seconds  \n",
       "1158                     True                            NaN  \n",
       "6881                     True                            NaN  \n",
       "7968                     True                            NaN  "
      ]
     },
     "execution_count": 140,
     "metadata": {},
     "output_type": "execute_result"
    }
   ],
   "source": [
    "df_orders[(df_orders['cancellations_time_in_seconds'].isnull() == True) & (df_orders['is_courier_assigned_key'] == True)]"
   ]
  },
  {
   "cell_type": "markdown",
   "id": "821b37f2",
   "metadata": {},
   "source": []
  },
  {
   "cell_type": "markdown",
   "id": "09092630",
   "metadata": {},
   "source": [
    "1 вывод не подтвердился, проверим второй."
   ]
  },
  {
   "cell_type": "code",
   "execution_count": 141,
   "id": "a0e052bb",
   "metadata": {},
   "outputs": [
    {
     "data": {
      "text/plain": [
       "order_datetime                   0\n",
       "order_gk                         0\n",
       "order_status_key                 0\n",
       "is_courier_assigned_key          0\n",
       "cancellations_time_in_seconds    0\n",
       "dtype: int64"
      ]
     },
     "execution_count": 141,
     "metadata": {},
     "output_type": "execute_result"
    }
   ],
   "source": [
    "df_orders[(df_orders['cancellations_time_in_seconds'].isnull() == True) & (df_orders['order_status_key'] != 9)].count()"
   ]
  },
  {
   "cell_type": "markdown",
   "id": "099807a9",
   "metadata": {},
   "source": [
    "Получили, что пропуски только там, где заказ отменен системой, теперь давайте проверим следующее:\n",
    "- Есть ли строки, где заказ был отменен системой и указывалось количество секунд до отмены?\n"
   ]
  },
  {
   "cell_type": "code",
   "execution_count": 142,
   "id": "14cf6836",
   "metadata": {},
   "outputs": [
    {
     "data": {
      "text/plain": [
       "order_datetime                   0\n",
       "order_gk                         0\n",
       "order_status_key                 0\n",
       "is_courier_assigned_key          0\n",
       "cancellations_time_in_seconds    0\n",
       "dtype: int64"
      ]
     },
     "execution_count": 142,
     "metadata": {},
     "output_type": "execute_result"
    }
   ],
   "source": [
    "df_orders[(df_orders['cancellations_time_in_seconds'].isnull() == False) & (df_orders['order_status_key'] == 9)].count()"
   ]
  },
  {
   "cell_type": "markdown",
   "id": "911f9919",
   "metadata": {},
   "source": [
    "Таким строк нет, сделаем выводы и составим гипотезы:"
   ]
  },
  {
   "cell_type": "markdown",
   "id": "79eea12f",
   "metadata": {},
   "source": [
    "### Выводы и гипотезы по пропускам:\n",
    "- Пропуски во времени отмены заказа есть только там, где заказ был отменен системой.\n",
    "\n",
    "**Это может быть обусловлены несколькими причинами.**\n",
    "1. *Вполне может быть так, что время заказа просто не записывается, если заказ был отменен системой.*\n",
    "2. *Происходит технический сбой.*\n",
    "3. *Взяли маленькую выборку.*\n",
    "\n",
    "**Чтобы исправить данную проблему и выяснить точную причину, нужно обратиться к техническим специалистом и предложить данные варианты решения:**\n",
    "- Если время заказа просто не записывается, если заказ был отменен системой, то мы просто заполним эти строки нулями.\n",
    "- Если происходит технический сбой, то это необходимо, конечно же, исправить.\n",
    "- Взять другую выборку."
   ]
  },
  {
   "cell_type": "markdown",
   "id": "afb8e5af",
   "metadata": {},
   "source": [
    "##### 0.4. Категоризируем даты и сделаем отдельные столбцы для времени."
   ]
  },
  {
   "cell_type": "markdown",
   "id": "1f7ea9c4",
   "metadata": {},
   "source": [
    "Посмотрим, за один ли год и месяц у нас выборка из данных."
   ]
  },
  {
   "cell_type": "code",
   "execution_count": 143,
   "id": "cdcc614f",
   "metadata": {},
   "outputs": [
    {
     "data": {
      "text/plain": [
       "2020    10716\n",
       "Name: order_datetime, dtype: int64"
      ]
     },
     "metadata": {},
     "output_type": "display_data"
    },
    {
     "data": {
      "text/plain": [
       "7    10716\n",
       "Name: order_datetime, dtype: int64"
      ]
     },
     "metadata": {},
     "output_type": "display_data"
    },
    {
     "data": {
      "text/plain": [
       "22    10716\n",
       "Name: order_datetime, dtype: int64"
      ]
     },
     "metadata": {},
     "output_type": "display_data"
    }
   ],
   "source": [
    "display(df_orders['order_datetime'].dt.year.value_counts())\n",
    "display(df_orders['order_datetime'].dt.month.value_counts())\n",
    "display(df_orders['order_datetime'].dt.day.value_counts())"
   ]
  },
  {
   "cell_type": "markdown",
   "id": "fe43e27f",
   "metadata": {},
   "source": [
    "***Получается так, что у нас очень маленькая выборка всего лишь за 1 день - 22 июля 2020 года, поэтому сделаем колонку только отдельно для часов.***"
   ]
  },
  {
   "cell_type": "code",
   "execution_count": 144,
   "id": "4f05540c",
   "metadata": {},
   "outputs": [],
   "source": [
    "df_orders['hour'] = df_orders['order_datetime'].dt.hour"
   ]
  },
  {
   "cell_type": "markdown",
   "id": "0a9676ce",
   "metadata": {},
   "source": [
    "###### 0.5. Посмотрим на распределения во времени отмены заказов."
   ]
  },
  {
   "cell_type": "code",
   "execution_count": 145,
   "id": "deffb1b7",
   "metadata": {},
   "outputs": [
    {
     "data": {
      "image/png": "[encoded data removed]",
      "text/plain": [
       "<Figure size 1440x504 with 2 Axes>"
      ]
     },
     "metadata": {},
     "output_type": "display_data"
    },
    {
     "data": {
      "text/plain": [
       "count    7307.000000\n",
       "mean      157.892021\n",
       "std       213.366963\n",
       "min         3.000000\n",
       "25%        45.000000\n",
       "50%        98.000000\n",
       "75%       187.500000\n",
       "95%       544.400000\n",
       "99%       996.940000\n",
       "max      4303.000000\n",
       "Name: cancellations_time_in_seconds, dtype: float64"
      ]
     },
     "execution_count": 145,
     "metadata": {},
     "output_type": "execute_result"
    }
   ],
   "source": [
    "temp = df_orders[df_orders['cancellations_time_in_seconds'].isnull() == False]\n",
    "\n",
    "sns.set_style('darkgrid')\n",
    "plt.figure(figsize = (20,7))\n",
    "plt.title('Распределение времени отмены заказа.', fontsize = 15)\n",
    "\n",
    "plt.subplot(1,2,1)\n",
    "sns.boxplot(temp['cancellations_time_in_seconds'], palette = 'Set2')\n",
    "plt.title('Распределение времени отмены заказов.', fontsize = 15)\n",
    "plt.xlabel('Время отмены заказа, секунды', fontsize = 12)\n",
    "plt.xlim(0,1000)\n",
    "\n",
    "\n",
    "plt.subplot(1,2,2)\n",
    "sns.distplot(temp['cancellations_time_in_seconds'], color = 'green', bins = 200)\n",
    "plt.title('Распределение времени отмены заказов.', fontsize = 15)\n",
    "plt.xlabel('Время отмены заказа, секунды', fontsize = 12)\n",
    "plt.xlim(0,1000)\n",
    "\n",
    "\n",
    "plt.show()\n",
    "\n",
    "temp['cancellations_time_in_seconds'].describe(percentiles = [.25, 0.5, 0.75, 0.95, 0.99])"
   ]
  },
  {
   "cell_type": "markdown",
   "id": "c8e2cea5",
   "metadata": {},
   "source": [
    "###### Выводы:\n",
    "1. Очень большое количество выбросов, то есть аномальных значений, видно, что 95% значений находятся в области до 545 секунд, то есть до 10 минут, что уже очень большое значение.\n",
    "2. Нельзя сказать, за какое время обычно (нормально) происходит отмена, так как гистограмма показывает экспоненциальное распределение, медиана и среднее значения не находятся рядом."
   ]
  },
  {
   "cell_type": "markdown",
   "id": "d4d32dd4",
   "metadata": {},
   "source": [
    "###### 0.5. Посмотрим на распределения в часах."
   ]
  },
  {
   "cell_type": "code",
   "execution_count": 163,
   "id": "d81d8843",
   "metadata": {},
   "outputs": [
    {
     "data": {
      "image/png": "[encoded data removed]",
      "text/plain": [
       "<Figure size 1440x720 with 1 Axes>"
      ]
     },
     "metadata": {},
     "output_type": "display_data"
    }
   ],
   "source": [
    "plt.figure(figsize = (20,10))\n",
    "\n",
    "sns.distplot(df_orders['hour'], color = 'blue', bins = 24) # 24 bins, потому что у нас 24 часа всего :)\n",
    "plt.title('Распределение часов', fontsize = 20)\n",
    "plt.xlabel('часы', fontsize = 15)\n",
    "plt.xticks(range(0,24,1))\n",
    "\n",
    "\n",
    "plt.show()"
   ]
  },
  {
   "cell_type": "markdown",
   "id": "c3dc9f9c",
   "metadata": {},
   "source": [
    "##### Выводы:\n",
    "- Наибольшее кол-во заказов приходится на 8 часов и с 20 до 23 часов. Это может быть обусловлено предрабочим и послерабочим временем. Также у нас нет информации, из одного часового пояса у нас датасет или нет, тогда ситуация бы поменялась.\n",
    "- Меньше всего заказов происходит с 4 до 6 часов и с 10 до 12 часов.\n",
    "- В остальных случаях ситуация примерно одинаковая."
   ]
  },
  {
   "cell_type": "markdown",
   "id": "d5f342b8",
   "metadata": {},
   "source": [
    "### Ответы на вопросы"
   ]
  },
  {
   "cell_type": "markdown",
   "id": "6c2c500c",
   "metadata": {},
   "source": [
    "#### 1. Для всех ли заказов нашлись офферы курьерам?"
   ]
  },
  {
   "cell_type": "markdown",
   "id": "02819669",
   "metadata": {},
   "source": [
    "Ответ на данный вопрос можно дать таким образом:\n",
    "\n",
    "- Надо посмотреть на строки, где был назначен курьер и посмотреть на строки offer_id, если строка offer_id окажется пустой, то это значит, что курьеру не достался оффер."
   ]
  },
  {
   "cell_type": "code",
   "execution_count": 221,
   "id": "4a084568",
   "metadata": {},
   "outputs": [],
   "source": [
    "df1 = df_orders.merge(df_offers, how = 'outer', on = 'order_gk')\n",
    "# объединяем методом outer, чтобы если найдутся пропуски в offer_id, это нам покажет, что курьер назначен, но у него нет offer"
   ]
  },
  {
   "cell_type": "code",
   "execution_count": 223,
   "id": "97b0c584",
   "metadata": {
    "scrolled": false
   },
   "outputs": [
    {
     "data": {
      "text/html": [
       "<div>\n",
       "<style scoped>\n",
       "    .dataframe tbody tr th:only-of-type {\n",
       "        vertical-align: middle;\n",
       "    }\n",
       "\n",
       "    .dataframe tbody tr th {\n",
       "        vertical-align: top;\n",
       "    }\n",
       "\n",
       "    .dataframe thead th {\n",
       "        text-align: right;\n",
       "    }\n",
       "</style>\n",
       "<table border=\"1\" class=\"dataframe\">\n",
       "  <thead>\n",
       "    <tr style=\"text-align: right;\">\n",
       "      <th></th>\n",
       "      <th>order_datetime</th>\n",
       "      <th>order_gk</th>\n",
       "      <th>order_status_key</th>\n",
       "      <th>is_courier_assigned_key</th>\n",
       "      <th>cancellations_time_in_seconds</th>\n",
       "      <th>hour</th>\n",
       "      <th>offer_id</th>\n",
       "    </tr>\n",
       "  </thead>\n",
       "  <tbody>\n",
       "    <tr>\n",
       "      <td>49</td>\n",
       "      <td>2020-07-22 16:55:28</td>\n",
       "      <td>3000583016613</td>\n",
       "      <td>4.0</td>\n",
       "      <td>True</td>\n",
       "      <td>188.0</td>\n",
       "      <td>16.0</td>\n",
       "      <td>NaN</td>\n",
       "    </tr>\n",
       "    <tr>\n",
       "      <td>119</td>\n",
       "      <td>2020-07-22 17:45:10</td>\n",
       "      <td>3000632371531</td>\n",
       "      <td>4.0</td>\n",
       "      <td>True</td>\n",
       "      <td>123.0</td>\n",
       "      <td>17.0</td>\n",
       "      <td>NaN</td>\n",
       "    </tr>\n",
       "    <tr>\n",
       "      <td>120</td>\n",
       "      <td>2020-07-22 08:03:03</td>\n",
       "      <td>3000632121951</td>\n",
       "      <td>4.0</td>\n",
       "      <td>True</td>\n",
       "      <td>171.0</td>\n",
       "      <td>8.0</td>\n",
       "      <td>NaN</td>\n",
       "    </tr>\n",
       "    <tr>\n",
       "      <td>184</td>\n",
       "      <td>2020-07-22 23:58:55</td>\n",
       "      <td>3000632521657</td>\n",
       "      <td>4.0</td>\n",
       "      <td>True</td>\n",
       "      <td>836.0</td>\n",
       "      <td>23.0</td>\n",
       "      <td>NaN</td>\n",
       "    </tr>\n",
       "    <tr>\n",
       "      <td>500</td>\n",
       "      <td>2020-07-22 16:23:15</td>\n",
       "      <td>3000623015780</td>\n",
       "      <td>4.0</td>\n",
       "      <td>True</td>\n",
       "      <td>135.0</td>\n",
       "      <td>16.0</td>\n",
       "      <td>NaN</td>\n",
       "    </tr>\n",
       "    <tr>\n",
       "      <td>...</td>\n",
       "      <td>...</td>\n",
       "      <td>...</td>\n",
       "      <td>...</td>\n",
       "      <td>...</td>\n",
       "      <td>...</td>\n",
       "      <td>...</td>\n",
       "      <td>...</td>\n",
       "    </tr>\n",
       "    <tr>\n",
       "      <td>34189</td>\n",
       "      <td>2020-07-22 12:12:54</td>\n",
       "      <td>3000554821880</td>\n",
       "      <td>4.0</td>\n",
       "      <td>True</td>\n",
       "      <td>104.0</td>\n",
       "      <td>12.0</td>\n",
       "      <td>NaN</td>\n",
       "    </tr>\n",
       "    <tr>\n",
       "      <td>34271</td>\n",
       "      <td>2020-07-22 17:23:50</td>\n",
       "      <td>3000554947422</td>\n",
       "      <td>4.0</td>\n",
       "      <td>True</td>\n",
       "      <td>407.0</td>\n",
       "      <td>17.0</td>\n",
       "      <td>NaN</td>\n",
       "    </tr>\n",
       "    <tr>\n",
       "      <td>34278</td>\n",
       "      <td>2020-07-22 16:48:53</td>\n",
       "      <td>3000554946396</td>\n",
       "      <td>4.0</td>\n",
       "      <td>True</td>\n",
       "      <td>253.0</td>\n",
       "      <td>16.0</td>\n",
       "      <td>NaN</td>\n",
       "    </tr>\n",
       "    <tr>\n",
       "      <td>34284</td>\n",
       "      <td>2020-07-22 15:51:29</td>\n",
       "      <td>3000554921654</td>\n",
       "      <td>4.0</td>\n",
       "      <td>True</td>\n",
       "      <td>106.0</td>\n",
       "      <td>15.0</td>\n",
       "      <td>NaN</td>\n",
       "    </tr>\n",
       "    <tr>\n",
       "      <td>34304</td>\n",
       "      <td>2020-07-22 20:50:07</td>\n",
       "      <td>3000555046440</td>\n",
       "      <td>4.0</td>\n",
       "      <td>True</td>\n",
       "      <td>293.0</td>\n",
       "      <td>20.0</td>\n",
       "      <td>NaN</td>\n",
       "    </tr>\n",
       "  </tbody>\n",
       "</table>\n",
       "<p>474 rows × 7 columns</p>\n",
       "</div>"
      ],
      "text/plain": [
       "           order_datetime       order_gk  order_status_key  \\\n",
       "49    2020-07-22 16:55:28  3000583016613               4.0   \n",
       "119   2020-07-22 17:45:10  3000632371531               4.0   \n",
       "120   2020-07-22 08:03:03  3000632121951               4.0   \n",
       "184   2020-07-22 23:58:55  3000632521657               4.0   \n",
       "500   2020-07-22 16:23:15  3000623015780               4.0   \n",
       "...                   ...            ...               ...   \n",
       "34189 2020-07-22 12:12:54  3000554821880               4.0   \n",
       "34271 2020-07-22 17:23:50  3000554947422               4.0   \n",
       "34278 2020-07-22 16:48:53  3000554946396               4.0   \n",
       "34284 2020-07-22 15:51:29  3000554921654               4.0   \n",
       "34304 2020-07-22 20:50:07  3000555046440               4.0   \n",
       "\n",
       "      is_courier_assigned_key  cancellations_time_in_seconds  hour  offer_id  \n",
       "49                       True                          188.0  16.0       NaN  \n",
       "119                      True                          123.0  17.0       NaN  \n",
       "120                      True                          171.0   8.0       NaN  \n",
       "184                      True                          836.0  23.0       NaN  \n",
       "500                      True                          135.0  16.0       NaN  \n",
       "...                       ...                            ...   ...       ...  \n",
       "34189                    True                          104.0  12.0       NaN  \n",
       "34271                    True                          407.0  17.0       NaN  \n",
       "34278                    True                          253.0  16.0       NaN  \n",
       "34284                    True                          106.0  15.0       NaN  \n",
       "34304                    True                          293.0  20.0       NaN  \n",
       "\n",
       "[474 rows x 7 columns]"
      ]
     },
     "execution_count": 223,
     "metadata": {},
     "output_type": "execute_result"
    }
   ],
   "source": [
    "df1.query('is_courier_assigned_key == True and offer_id == \"NaN\"')"
   ]
  },
  {
   "cell_type": "markdown",
   "id": "bf8f4142",
   "metadata": {},
   "source": [
    "**1. Ответ**: Нет.\n",
    "\n",
    "**Предполагаемые причины**:\n",
    "- Курьер мог был быть назначен по ошибке\n",
    "- Курьер сначала мог быть назначен, а потом отменили заказ и соответственно оффер курьеру не достался\n",
    "- Сбои в системе\n",
    "\n",
    "*Нужно будет узнать, как работает логика записи в датасет, и пофиксить проблемы, исходя из этого.*"
   ]
  },
  {
   "cell_type": "markdown",
   "id": "defba6cc",
   "metadata": {},
   "source": [
    "#### 2. Если нашлись такие заказы, на которых не назначены курьеры, то чего больше - отмен клиентом или реджектов системы?"
   ]
  },
  {
   "cell_type": "markdown",
   "id": "31998da3",
   "metadata": {},
   "source": [
    "Пояснение:\n",
    "- Сначала надо найти заказы, на которые не назначены курьеры, а затем посчитать кол-во отменененных клиентом и реджектов и сравнить."
   ]
  },
  {
   "cell_type": "code",
   "execution_count": 236,
   "id": "65ade81e",
   "metadata": {},
   "outputs": [
    {
     "name": "stdout",
     "output_type": "stream",
     "text": [
      "Отменено системой 3406 заказов.\n",
      "Отменено клиентами 4496 заказов.\n",
      "\n",
      "Больше заказов отменено клиентами.\n"
     ]
    }
   ],
   "source": [
    "df2 = df_orders.query('is_courier_assigned_key == False')\n",
    "\n",
    "rejected_system = df2.query('order_status_key == 9')['order_status_key'].count()\n",
    "rejected_client = df2.query('order_status_key == 4')['order_status_key'].count()\n",
    "\n",
    "print(f\"Отменено системой {rejected_system} заказов.\")\n",
    "print(f\"Отменено клиентами {rejected_client} заказов.\", end = '\\n\\n')\n",
    "\n",
    "if rejected_system > rejected_client:\n",
    "    print('Больше заказов отменено системой.')\n",
    "elif rejected_system < rejected_client:\n",
    "    print('Больше заказов отменено клиентами.')\n",
    "else:\n",
    "    print('Количество отмененных заказов поровну')"
   ]
  },
  {
   "cell_type": "markdown",
   "id": "3d24cc21",
   "metadata": {},
   "source": [
    "**2. Ответ**: Больше заказов отменено клиентами.\n",
    "\n",
    "**Предполагаемые причины:**\n",
    "- Разница в тысячу заказов, в принципе клиентами могли отменяться заказы, которые либо были сделаны по ошибке, либо клиент ждал слишком долго, при чем долго у каждого человека это понятие субъективное.\n",
    "- Системой могли отменяться заказы из-за нехватки курьеров, товара, который заказали и иным подобным причинам."
   ]
  },
  {
   "cell_type": "markdown",
   "id": "33924e4e",
   "metadata": {},
   "source": [
    "#### 3. Какова доля заказов с назначенным курьером среди заказов, отмененных системой?"
   ]
  },
  {
   "cell_type": "markdown",
   "id": "4c08f0ab",
   "metadata": {},
   "source": [
    "1. Найдем заказы, отмененные системой.\n",
    "2. Поделим заказы с назначенным курьером на все заказы."
   ]
  },
  {
   "cell_type": "code",
   "execution_count": 243,
   "id": "71d52cf1",
   "metadata": {},
   "outputs": [],
   "source": [
    "df3 = df_orders.query('order_status_key == 9')"
   ]
  },
  {
   "cell_type": "code",
   "execution_count": 252,
   "id": "75e28842",
   "metadata": {},
   "outputs": [
    {
     "name": "stdout",
     "output_type": "stream",
     "text": [
      "Доля отмененных заказов = 0.0008800234672924611\n"
     ]
    }
   ],
   "source": [
    "conversion =  df3.query('is_courier_assigned_key == True').shape[0] / df3.shape[0]\n",
    "\n",
    "print(f\"Доля отмененных заказов = {conversion}\")"
   ]
  },
  {
   "cell_type": "markdown",
   "id": "79908c0b",
   "metadata": {},
   "source": [
    "**3. Ответ**: Доля равна =  *0.0008800234672924611* (крайне мала).\n",
    "\n",
    "###### Причины:\n",
    "- Скорее всего это сбои в системе, если это реально окажется так, то мы может просто отбросить их, ничего не случится.\n",
    "- Либо всё в порядке и система работает так, что сначала отменяется заказ, а курьер остается без заказа, в любом случае надо узнать, что происходит на самом деле."
   ]
  },
  {
   "cell_type": "markdown",
   "id": "cdb3b648",
   "metadata": {},
   "source": [
    "#### 4. Получите среднее времени до отмены (cancellations_time_in_seconds) с назначенным курьером и без, по часам.  Можно ли сделать выводы по полученной таблице?"
   ]
  },
  {
   "cell_type": "code",
   "execution_count": 254,
   "id": "c6a641f1",
   "metadata": {},
   "outputs": [],
   "source": [
    "df4_with = df_orders.query('is_courier_assigned_key == True')['hour']\n",
    "df4_without = df_orders.query('is_courier_assigned_key == False')['hour']"
   ]
  },
  {
   "cell_type": "markdown",
   "id": "fc285691",
   "metadata": {},
   "source": [
    "Здесь я буду использовать `distplot` (`histplot`) для наглядности. Среднее время, медиану и т.п. получим через метод .describe()"
   ]
  },
  {
   "cell_type": "code",
   "execution_count": 307,
   "id": "886f6bd9",
   "metadata": {},
   "outputs": [
    {
     "data": {
      "image/png": "[encoded data removed]",
      "text/plain": [
       "<Figure size 1440x720 with 1 Axes>"
      ]
     },
     "metadata": {},
     "output_type": "display_data"
    }
   ],
   "source": [
    "plt.figure(figsize = (20,10))\n",
    "\n",
    "sns.distplot(df4_with, bins = 24, label = 'with courier')\n",
    "sns.distplot(df4_without, bins = 24, label = 'without courier')\n",
    "\n",
    "#with median\n",
    "plt.axvline(df4_with.median(), color = 'royalblue', linewidth = 8, linestyle = 'dashed', label = 'with courier median')\n",
    "#with mean\n",
    "plt.axvline(df4_with.mean(), color = 'royalblue', linewidth = 5, label = 'with courier mean')\n",
    "\n",
    "\n",
    "#without median\n",
    "plt.axvline(df4_without.median(), color = 'orange', linewidth = 5, linestyle = 'dashed', label = 'without courier median')\n",
    "#without mean\n",
    "plt.axvline(df4_without.mean(), color = 'orange', linewidth = 5, label = 'without courier mean')\n",
    "\n",
    "\n",
    "plt.xlabel('hours', fontsize = 15)\n",
    "plt.xticks(range(0,24,1))\n",
    "\n",
    "plt.title('Времяо отмены заказа с назначенным курьером и без', fontsize = 20)\n",
    "plt.legend(prop={'size': 15})\n",
    "\n",
    "\n",
    "plt.show()"
   ]
  },
  {
   "cell_type": "markdown",
   "id": "305764ed",
   "metadata": {},
   "source": [
    "Можно наглядно увидеть, что медиана и средние почти одинаковые, посмотрим статистику с помощью `.describe` и сделаем окончательные выводы."
   ]
  },
  {
   "cell_type": "code",
   "execution_count": 342,
   "id": "ac461b04",
   "metadata": {},
   "outputs": [
    {
     "data": {
      "text/html": [
       "<div>\n",
       "<style scoped>\n",
       "    .dataframe tbody tr th:only-of-type {\n",
       "        vertical-align: middle;\n",
       "    }\n",
       "\n",
       "    .dataframe tbody tr th {\n",
       "        vertical-align: top;\n",
       "    }\n",
       "\n",
       "    .dataframe thead th {\n",
       "        text-align: right;\n",
       "    }\n",
       "</style>\n",
       "<table border=\"1\" class=\"dataframe\">\n",
       "  <thead>\n",
       "    <tr style=\"text-align: right;\">\n",
       "      <th></th>\n",
       "      <th>hours with courier</th>\n",
       "      <th>hours without courier</th>\n",
       "    </tr>\n",
       "  </thead>\n",
       "  <tbody>\n",
       "    <tr>\n",
       "      <td>count</td>\n",
       "      <td>2814.000000</td>\n",
       "      <td>7902.000000</td>\n",
       "    </tr>\n",
       "    <tr>\n",
       "      <td>mean</td>\n",
       "      <td>12.511727</td>\n",
       "      <td>12.353581</td>\n",
       "    </tr>\n",
       "    <tr>\n",
       "      <td>std</td>\n",
       "      <td>6.662850</td>\n",
       "      <td>7.985971</td>\n",
       "    </tr>\n",
       "    <tr>\n",
       "      <td>min</td>\n",
       "      <td>0.000000</td>\n",
       "      <td>0.000000</td>\n",
       "    </tr>\n",
       "    <tr>\n",
       "      <td>25%</td>\n",
       "      <td>8.000000</td>\n",
       "      <td>4.000000</td>\n",
       "    </tr>\n",
       "    <tr>\n",
       "      <td>50%</td>\n",
       "      <td>13.000000</td>\n",
       "      <td>13.000000</td>\n",
       "    </tr>\n",
       "    <tr>\n",
       "      <td>75%</td>\n",
       "      <td>18.000000</td>\n",
       "      <td>21.000000</td>\n",
       "    </tr>\n",
       "    <tr>\n",
       "      <td>95%</td>\n",
       "      <td>23.000000</td>\n",
       "      <td>23.000000</td>\n",
       "    </tr>\n",
       "    <tr>\n",
       "      <td>99%</td>\n",
       "      <td>23.000000</td>\n",
       "      <td>23.000000</td>\n",
       "    </tr>\n",
       "    <tr>\n",
       "      <td>max</td>\n",
       "      <td>23.000000</td>\n",
       "      <td>23.000000</td>\n",
       "    </tr>\n",
       "  </tbody>\n",
       "</table>\n",
       "</div>"
      ],
      "text/plain": [
       "       hours with courier  hours without courier\n",
       "count         2814.000000            7902.000000\n",
       "mean            12.511727              12.353581\n",
       "std              6.662850               7.985971\n",
       "min              0.000000               0.000000\n",
       "25%              8.000000               4.000000\n",
       "50%             13.000000              13.000000\n",
       "75%             18.000000              21.000000\n",
       "95%             23.000000              23.000000\n",
       "99%             23.000000              23.000000\n",
       "max             23.000000              23.000000"
      ]
     },
     "execution_count": 342,
     "metadata": {},
     "output_type": "execute_result"
    }
   ],
   "source": [
    "pd.merge(df4_with.describe(percentiles = [.25, .50, 0.75, 0.95, 0.99]),\n",
    "         df4_without.describe(percentiles = [.25, .50, 0.75, 0.95, 0.99]),\n",
    "         left_index=True, right_index=True,\n",
    "         suffixes=('s with courier', 's without courier'))"
   ]
  },
  {
   "cell_type": "markdown",
   "id": "3d7e7cac",
   "metadata": {},
   "source": [
    "**4. Ответ**:\n",
    "\n",
    "Среднее время с курьером и без одинаковое = ~12.5\n",
    "\n",
    "**Выводы:**\n",
    "- В заказах без курьера большинство сбоев происходит вечером и ночью.\n",
    "- В заказах с курьерами, наоборот, днем.\n",
    "\n",
    "Быть может, что заказы без курьера отменяются вечером и ночью банально по той причине, что для большинства людей это нерабочие часы и просто невозможно назначить курьера.\n"
   ]
  },
  {
   "cell_type": "markdown",
   "id": "80491821",
   "metadata": {},
   "source": [
    "#### 5. Постройте график распределения фейлов по часам - наблюдается ли тендеция, что в какие то часы доля той или иной категории аномально высока?"
   ]
  },
  {
   "cell_type": "markdown",
   "id": "4eb9a415",
   "metadata": {},
   "source": [
    "По стечению обстоятельств я уже строил этот график сверху, но продублирую еще раз."
   ]
  },
  {
   "cell_type": "code",
   "execution_count": 343,
   "id": "e032c282",
   "metadata": {},
   "outputs": [
    {
     "data": {
      "image/png": "[encoded data removed]",
      "text/plain": [
       "<Figure size 1440x720 with 1 Axes>"
      ]
     },
     "metadata": {},
     "output_type": "display_data"
    }
   ],
   "source": [
    "plt.figure(figsize = (20,10))\n",
    "\n",
    "sns.distplot(df_orders['hour'], color = 'blue', bins = 24) # 24 bins, потому что у нас 24 часа всего :)\n",
    "plt.title('Распределение часов', fontsize = 20)\n",
    "plt.xlabel('часы', fontsize = 15)\n",
    "plt.xticks(range(0,24,1))\n",
    "\n",
    "\n",
    "plt.show()"
   ]
  },
  {
   "cell_type": "markdown",
   "id": "ee965644",
   "metadata": {},
   "source": [
    "**5. Ответ**: Да, наблюдается.\n",
    "\n",
    "##### Выводы:\n",
    "- Наибольшее кол-во заказов приходится на 8 часов и с 20 до 23 часов. Это может быть обусловлено предрабочим и послерабочим временем. Также у нас нет информации, из одного часового пояса у нас датасет или нет, тогда ситуация бы поменялась.\n",
    "- Меньше всего заказов происходит с 4 до 6 часов и с 10 до 12 часов.\n",
    "- В остальных случаях ситуация примерно одинаковая."
   ]
  }
 ],
 "metadata": {
  "kernelspec": {
   "display_name": "Python 3 (ipykernel)",
   "language": "python",
   "name": "python3"
  },
  "language_info": {
   "codemirror_mode": {
    "name": "ipython",
    "version": 3
   },
   "file_extension": ".py",
   "mimetype": "text/x-python",
   "name": "python",
   "nbconvert_exporter": "python",
   "pygments_lexer": "ipython3",
   "version": "3.7.8"
  }
 },
 "nbformat": 4,
 "nbformat_minor": 5
}
