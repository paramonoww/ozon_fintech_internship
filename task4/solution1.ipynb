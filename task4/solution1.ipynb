{
 "cells": [
  {
   "cell_type": "code",
   "execution_count": 1,
   "id": "3ababaf3",
   "metadata": {},
   "outputs": [],
   "source": [
    "import numpy as np\n",
    "from scipy import stats as st"
   ]
  },
  {
   "cell_type": "code",
   "execution_count": 5,
   "id": "9a6130a9",
   "metadata": {},
   "outputs": [
    {
     "data": {
      "text/plain": [
       "22.833333333333332"
      ]
     },
     "execution_count": 5,
     "metadata": {},
     "output_type": "execute_result"
    }
   ],
   "source": [
    "sample = np.array([27,24,17,19,30,29,23,\n",
    "                   31,19,18,26,24,20,22,\n",
    "                   15,7,25,27,28,28,24,19,\n",
    "                   15,21,31,11,36,24,16,29]) # наша строка с элементами собственно\n",
    "sample.mean() # выборочное среднее"
   ]
  },
  {
   "cell_type": "code",
   "execution_count": 7,
   "id": "f13e07bf",
   "metadata": {},
   "outputs": [],
   "source": [
    "target = 20 # мы предполагаем, что среднее ген. совокупности > 20\n",
    "\n",
    "alpha = 0.05 # задаем уровень стат. значимости по стандарту 0.05"
   ]
  },
  {
   "cell_type": "markdown",
   "id": "0a2c30da",
   "metadata": {},
   "source": [
    "- **H0** - среднее ген. совокупности <= 20\n",
    "- **H1** - среднее ген. совокупности > 20"
   ]
  },
  {
   "cell_type": "markdown",
   "id": "663fb1e8",
   "metadata": {},
   "source": [
    "Так как мы проводим односторонний тест, то полученное значение нужно будет поделить на 2."
   ]
  },
  {
   "cell_type": "code",
   "execution_count": 12,
   "id": "60d02b38",
   "metadata": {},
   "outputs": [
    {
     "name": "stdout",
     "output_type": "stream",
     "text": [
      "p-value = 0.011613768028426456\n",
      "Rejecting H0\n"
     ]
    }
   ],
   "source": [
    "# testing H0\n",
    "\n",
    "result = st.ttest_1samp(sample, target)\n",
    "\n",
    "print(\"p-value =\", result.pvalue/2)\n",
    "\n",
    "if result.pvalue/2 < alpha:\n",
    "    print(\"Rejecting H0\")\n",
    "else:\n",
    "    ('Cannot reject H0')"
   ]
  },
  {
   "cell_type": "markdown",
   "id": "ff5693c5",
   "metadata": {},
   "source": [
    "*Можем отвергнуть нулевую гипотезу и принять H1, которая заключается в том, что среднее значение ген. совокупности больше 20.*"
   ]
  },
  {
   "cell_type": "code",
   "execution_count": null,
   "id": "ada61287",
   "metadata": {},
   "outputs": [],
   "source": []
  }
 ],
 "metadata": {
  "kernelspec": {
   "display_name": "Python 3 (ipykernel)",
   "language": "python",
   "name": "python3"
  },
  "language_info": {
   "codemirror_mode": {
    "name": "ipython",
    "version": 3
   },
   "file_extension": ".py",
   "mimetype": "text/x-python",
   "name": "python",
   "nbconvert_exporter": "python",
   "pygments_lexer": "ipython3",
   "version": "3.7.8"
  }
 },
 "nbformat": 4,
 "nbformat_minor": 5
}
